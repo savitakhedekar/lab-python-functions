{
 "cells": [
  {
   "cell_type": "markdown",
   "id": "25d7736c-ba17-4aff-b6bb-66eba20fbf4e",
   "metadata": {},
   "source": [
    "# Lab | Functions"
   ]
  },
  {
   "cell_type": "markdown",
   "id": "0c581062-8967-4d93-b06e-62833222f930",
   "metadata": {
    "tags": []
   },
   "source": [
    "## Exercise: Managing Customer Orders with Functions\n",
    "\n",
    "In the previous exercise, you improved the code for managing customer orders by using loops and flow control. Now, let's take it a step further and refactor the code by introducing functions.\n",
    "\n",
    "Follow the steps below to complete the exercise:\n",
    "\n",
    "1. Define a function named `initialize_inventory` that takes `products` as a parameter. Inside the function, implement the code for initializing the inventory dictionary using a loop and user input.\n",
    "\n",
    "2. Define a function named `get_customer_orders` that takes no parameters. Inside the function, implement the code for prompting the user to enter the product names using a loop. The function should return the `customer_orders` set.\n",
    "\n",
    "3. Define a function named `update_inventory` that takes `customer_orders` and `inventory` as parameters. Inside the function, implement the code for updating the inventory dictionary based on the customer orders.\n",
    "\n",
    "4. Define a function named `calculate_order_statistics` that takes `customer_orders` and `products` as parameters. Inside the function, implement the code for calculating the order statistics (total products ordered, and percentage of unique products ordered). The function should return these values.\n",
    "\n",
    "5. Define a function named `print_order_statistics` that takes `order_statistics` as a parameter. Inside the function, implement the code for printing the order statistics.\n",
    "\n",
    "6. Define a function named `print_updated_inventory` that takes `inventory` as a parameter. Inside the function, implement the code for printing the updated inventory.\n",
    "\n",
    "7. Call the functions in the appropriate sequence to execute the program and manage customer orders.\n",
    "\n",
    "Hints for functions:\n",
    "\n",
    "- Consider the input parameters required for each function and their return values.\n",
    "- Utilize function parameters and return values to transfer data between functions.\n",
    "- Test your functions individually to ensure they work correctly.\n",
    "\n",
    "\n"
   ]
  },
  {
   "cell_type": "code",
   "execution_count": 44,
   "id": "2eea9d1d-656f-47fa-aac6-4b56f86fa892",
   "metadata": {},
   "outputs": [
    {
     "ename": "IndentationError",
     "evalue": "expected an indented block after 'try' statement on line 7 (4251792940.py, line 8)",
     "output_type": "error",
     "traceback": [
      "\u001b[1;36m  Cell \u001b[1;32mIn[44], line 8\u001b[1;36m\u001b[0m\n\u001b[1;33m    quantity = int(input(f\"\"Enter the no of {product}s available\"\"))\u001b[0m\n\u001b[1;37m    ^\u001b[0m\n\u001b[1;31mIndentationError\u001b[0m\u001b[1;31m:\u001b[0m expected an indented block after 'try' statement on line 7\n"
     ]
    }
   ],
   "source": [
    "products = [\"t-shirt\", \"mug\", \"hat\", \"book\", \"keychain\"]\n",
    "inventory = initialize_inventory(products)\n",
    "inventory = {}\n",
    "\n",
    "for product in products:\n",
    "    while True:\n",
    "        try:\n",
    "        quantity = int(input(f\"\"Enter the no of {product}s available\"\"))\n",
    "         inventory[product] = quantity\n",
    "         \n",
    "         break\n",
    "            except ValueError:\n",
    "                print(\"Invalid input. Please enter a valid integer quantity.\")\n",
    "    \n",
    "    return inventory"
   ]
  },
  {
   "cell_type": "code",
   "execution_count": 4,
   "id": "35f8ac75-56da-4853-9a5c-2a804f1aa701",
   "metadata": {},
   "outputs": [
    {
     "ename": "SyntaxError",
     "evalue": "incomplete input (3725222627.py, line 1)",
     "output_type": "error",
     "traceback": [
      "\u001b[1;36m  Cell \u001b[1;32mIn[4], line 1\u001b[1;36m\u001b[0m\n\u001b[1;33m    def initialize_inventory(products):\u001b[0m\n\u001b[1;37m                                       ^\u001b[0m\n\u001b[1;31mSyntaxError\u001b[0m\u001b[1;31m:\u001b[0m incomplete input\n"
     ]
    }
   ],
   "source": [
    "def initialize_inventory(products):"
   ]
  },
  {
   "cell_type": "code",
   "execution_count": 30,
   "id": "bfd1ae85-69d6-4cfa-bb9b-c9232a6044f8",
   "metadata": {},
   "outputs": [],
   "source": [
    "# 2.Define a function named get_customer_orders that takes no parameters. Inside the function, implement the code for prompting the user to enter the product names using a loop. \n",
    "    #The function should return the customer_orders set.\n",
    "\n",
    "\n",
    "def get_customer_orders():\n",
    "    customer_orders = set()\n",
    "    while True:\n",
    "        add_item = input(\" want to order more(yes/no): \")\n",
    "        if add_item == \"yes\":\n",
    "            product_name = input(\"enter product you want to order\")\n",
    "            customer_orders.add(product_name)\n",
    "        elif add_item == \"no\":\n",
    "            break\n",
    "        else:\n",
    "            print = input(\"enter your answer Yes/no\")\n",
    "    return customer_orders\n",
    "\n",
    "#orders = get_customer_orders()\n",
    "#print(\"Products in customer orders:\", orders)"
   ]
  },
  {
   "cell_type": "code",
   "execution_count": 31,
   "id": "39213839-7850-45b3-8edd-641b3bb7b534",
   "metadata": {},
   "outputs": [
    {
     "name": "stdin",
     "output_type": "stream",
     "text": [
      " want to order more(yes/no):  yes\n",
      "enter product you want to order mug\n",
      " want to order more(yes/no):  no\n"
     ]
    },
    {
     "name": "stdout",
     "output_type": "stream",
     "text": [
      "Products in customer orders: {'mug'}\n"
     ]
    }
   ],
   "source": [
    "orders = get_customer_orders()\n",
    "print(\"Products in customer orders:\", orders)"
   ]
  },
  {
   "cell_type": "code",
   "execution_count": 43,
   "id": "623ed581-79bc-4c1c-a96f-4b2edaebe891",
   "metadata": {},
   "outputs": [],
   "source": [
    "#3 Define a function named update_inventory that takes customer_orders and inventory as parameters. Inside the function, implement the code for updating the inventory dictionary based on the customer ordeders.\n",
    "\n",
    "\n",
    "def update_inventory(customer_orders,inventory):\n",
    "    customer_orders = set()\n",
    "    \n",
    "    for item in customer_orders:\n",
    "        if item in inventory:\n",
    "            if inventory[item] > 0:\n",
    "                invenory[item] -= 1\n",
    "                print(f\"{item} order fulfilled. balance quantity:{inventory[item]}\")\n",
    "            else:\n",
    "                print(f\"{item} Out of stock.\")\n",
    "        else:print(f\"Sorry, we don't have {item} in our inventory.\")\n",
    "            \n",
    "     \n",
    "        return inventory         \n",
    "                \n"
   ]
  },
  {
   "cell_type": "code",
   "execution_count": 45,
   "id": "46916561-ab53-41ac-80a9-9d26a00f666d",
   "metadata": {},
   "outputs": [
    {
     "name": "stdout",
     "output_type": "stream",
     "text": [
      "Updated Inventory: None\n"
     ]
    }
   ],
   "source": [
    "\n",
    "customer_orders = {\"t-shirt\", \"mug\", \"hat\"}\n",
    "inventory = {\n",
    "    \"t-shirt\": 3,\n",
    "    \"mug\": 0,\n",
    "    \"hat\": 2\n",
    "}\n",
    "\n",
    "updated_inventory = update_inventory(customer_orders, inventory)\n",
    "print(\"Updated Inventory:\", updated_inventory)"
   ]
  },
  {
   "cell_type": "code",
   "execution_count": 54,
   "id": "9117c5bd-4d58-4e87-9ecd-3594005e824e",
   "metadata": {},
   "outputs": [],
   "source": [
    "#4 Define \n",
    "\n",
    "def calculate_order_statistics(customer_order,products):\n",
    "\n",
    "    total_products_ordered = len(customer_orders)\n",
    "\n",
    "    unique_products_ordered = len(customer_orders)\n",
    "\n",
    "    total_unique_products = len(products)\n",
    "\n",
    "    \n",
    "    if total_unique_products > 0:\n",
    "        percentage_unique_products_ordered = (unique_products_ordered / total_unique_products) * 100\n",
    "             \n",
    "    else:\n",
    "        percentage_unique_products_ordered = 0\n",
    "    \n",
    "    return total_products_ordered, percentage_unique_products_ordered"
   ]
  },
  {
   "cell_type": "code",
   "execution_count": 57,
   "id": "e641bcd3-92ce-4a53-941d-e42eb9101511",
   "metadata": {},
   "outputs": [
    {
     "data": {
      "text/plain": [
       "{'hat', 'mug', 't-shirt'}"
      ]
     },
     "execution_count": 57,
     "metadata": {},
     "output_type": "execute_result"
    }
   ],
   "source": [
    "customer_orders"
   ]
  },
  {
   "cell_type": "code",
   "execution_count": 59,
   "id": "c5823342-1268-4a0e-ae25-c98178ba1724",
   "metadata": {},
   "outputs": [
    {
     "data": {
      "text/plain": [
       "['t-shirt', 'mug', 'hat', 'book', 'keychain']"
      ]
     },
     "execution_count": 59,
     "metadata": {},
     "output_type": "execute_result"
    }
   ],
   "source": [
    "products"
   ]
  },
  {
   "cell_type": "code",
   "execution_count": 65,
   "id": "ae6f67fa-5e30-4035-883c-aa94fdcaeca1",
   "metadata": {},
   "outputs": [],
   "source": [
    "percentage = calculate_order_statistics(customer_orders,products)"
   ]
  },
  {
   "cell_type": "code",
   "execution_count": 67,
   "id": "ec7c5b6a-1504-49fc-af40-dfc8161ab7bd",
   "metadata": {},
   "outputs": [
    {
     "name": "stdout",
     "output_type": "stream",
     "text": [
      "Total products ordered: 3\n",
      "Percentage of unique products ordered: 60.00%\n"
     ]
    }
   ],
   "source": [
    "Total, percentage = calculate_order_statistics(customer_orders, products)\n",
    "print(f\"Total products ordered: {total}\")\n",
    "print(f\"Percentage of unique products ordered: {percentage:.2f}%\")"
   ]
  },
  {
   "cell_type": "code",
   "execution_count": 74,
   "id": "10d13089-b8c0-4f3f-bb06-f883c7426f4c",
   "metadata": {},
   "outputs": [],
   "source": [
    "#5 \n",
    "\n",
    "def print_order_statistics(order_statistics):\n",
    "    \n",
    "    total_products_ordered, percentage_unique_products_ordered = order_statistics\n",
    "    \n",
    "    print(f\"Total products ordered: {total_products_ordered}\")\n",
    "    print(f\"Percentage of unique products ordered: {percentage_unique_products_ordered:.2f}%\")\n",
    "\n",
    "\n",
    "def calculate_order_statistics(customer_order,products):\n",
    "\n",
    "    total_products_ordered = len(customer_orders)\n",
    "\n",
    "    unique_products_ordered = len(customer_orders)\n",
    "\n",
    "    total_unique_products = len(products)\n",
    "\n",
    "    \n",
    "    if total_unique_products > 0:\n",
    "        percentage_unique_products_ordered = (unique_products_ordered / total_unique_products) * 100\n",
    "             \n",
    "    else:\n",
    "        percentage_unique_products_ordered = 0\n",
    "    \n",
    "    return total_products_ordered, percentage_unique_products_ordered"
   ]
  },
  {
   "cell_type": "code",
   "execution_count": 76,
   "id": "4edd7912-444a-4b80-b205-020b8d36357b",
   "metadata": {},
   "outputs": [
    {
     "data": {
      "text/plain": [
       "{'hat', 'mug', 't-shirt'}"
      ]
     },
     "execution_count": 76,
     "metadata": {},
     "output_type": "execute_result"
    }
   ],
   "source": [
    "customer_orders"
   ]
  },
  {
   "cell_type": "code",
   "execution_count": 78,
   "id": "38e1c748-4069-412e-adfb-bd3daadd4c6e",
   "metadata": {},
   "outputs": [
    {
     "data": {
      "text/plain": [
       "['t-shirt', 'mug', 'hat', 'book', 'keychain']"
      ]
     },
     "execution_count": 78,
     "metadata": {},
     "output_type": "execute_result"
    }
   ],
   "source": [
    "products"
   ]
  },
  {
   "cell_type": "code",
   "execution_count": 83,
   "id": "210a704c-03e8-4cb4-adcf-d964e9c5143b",
   "metadata": {},
   "outputs": [],
   "source": [
    "order_stats = calculate_order_statistics(customer_orders,products)"
   ]
  },
  {
   "cell_type": "code",
   "execution_count": 84,
   "id": "290dbd57-ad62-48be-beea-69c7ad496530",
   "metadata": {},
   "outputs": [
    {
     "name": "stdout",
     "output_type": "stream",
     "text": [
      "Total products ordered: 3\n",
      "Percentage of unique products ordered: 60.00%\n"
     ]
    }
   ],
   "source": [
    "print_order_statistics(order_stats)"
   ]
  },
  {
   "cell_type": "code",
   "execution_count": 85,
   "id": "cc52e6ca-4a6c-406c-b9c2-df3ed80eb49c",
   "metadata": {},
   "outputs": [],
   "source": [
    "def print_order_statistics(order_statistics):\n",
    "    total_products_ordered, percentage_unique_products_ordered = order_statistics\n",
    "    \n",
    "    print(f\"Total products ordered: {total_products_ordered}\")\n",
    "    print(f\"Percentage of unique products ordered: {percentage_unique_products_ordered:.2f}%\")\n"
   ]
  },
  {
   "cell_type": "code",
   "execution_count": 86,
   "id": "576b0f0e-cc08-48eb-9c05-82308d67888c",
   "metadata": {},
   "outputs": [
    {
     "data": {
      "text/plain": [
       "{'t-shirt': 3, 'mug': 0, 'hat': 2}"
      ]
     },
     "execution_count": 86,
     "metadata": {},
     "output_type": "execute_result"
    }
   ],
   "source": [
    "inventory"
   ]
  },
  {
   "cell_type": "code",
   "execution_count": 93,
   "id": "8c4779c0-8743-4d63-bee6-9b20b226b05a",
   "metadata": {},
   "outputs": [],
   "source": [
    "def print_updated_inventory(inventory):\n",
    "    print(\"Updated Inventory:\")\n",
    "    for product, quantity in inventory.items():\n",
    "        print(f\"{product}: {quantity}\")"
   ]
  },
  {
   "cell_type": "code",
   "execution_count": 95,
   "id": "561931b1-b660-4c3b-85b5-621c64eb2c0b",
   "metadata": {},
   "outputs": [
    {
     "data": {
      "text/plain": [
       "{'t-shirt': 3, 'mug': 0, 'hat': 2}"
      ]
     },
     "execution_count": 95,
     "metadata": {},
     "output_type": "execute_result"
    }
   ],
   "source": [
    "inventory"
   ]
  },
  {
   "cell_type": "code",
   "execution_count": 97,
   "id": "b2310af9-8f62-444e-8f3d-416e0e23a16f",
   "metadata": {},
   "outputs": [
    {
     "ename": "NameError",
     "evalue": "name 'initialize_inventory' is not defined",
     "output_type": "error",
     "traceback": [
      "\u001b[1;31m---------------------------------------------------------------------------\u001b[0m",
      "\u001b[1;31mNameError\u001b[0m                                 Traceback (most recent call last)",
      "Cell \u001b[1;32mIn[97], line 1\u001b[0m\n\u001b[1;32m----> 1\u001b[0m inventory \u001b[38;5;241m=\u001b[39m initialize_inventory(products)\n\u001b[0;32m      2\u001b[0m calculate_order_statistics(customer_order,products)\n\u001b[0;32m      3\u001b[0m print_order_statistics(order_statistics)\n",
      "\u001b[1;31mNameError\u001b[0m: name 'initialize_inventory' is not defined"
     ]
    }
   ],
   "source": [
    "inventory = initialize_inventory(products)\n",
    "calculate_order_statistics(customer_order,products)\n",
    "print_order_statistics(order_statistics)\n",
    "print_updated_inventory(inventory)"
   ]
  },
  {
   "cell_type": "code",
   "execution_count": null,
   "id": "542b169b-d2e8-4a7e-a485-85da2c6dcc24",
   "metadata": {},
   "outputs": [],
   "source": []
  }
 ],
 "metadata": {
  "kernelspec": {
   "display_name": "Python 3 (ipykernel)",
   "language": "python",
   "name": "python3"
  },
  "language_info": {
   "codemirror_mode": {
    "name": "ipython",
    "version": 3
   },
   "file_extension": ".py",
   "mimetype": "text/x-python",
   "name": "python",
   "nbconvert_exporter": "python",
   "pygments_lexer": "ipython3",
   "version": "3.11.7"
  }
 },
 "nbformat": 4,
 "nbformat_minor": 5
}

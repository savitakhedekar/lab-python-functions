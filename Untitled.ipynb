{
 "cells": [
  {
   "cell_type": "code",
   "execution_count": 1,
   "id": "1bf2bd56-adc9-4005-9c16-c06d139bfb15",
   "metadata": {},
   "outputs": [],
   "source": [
    "products = [\"t-shirt\", \"mug\", \"hat\", \"book\", \"keychain\"]"
   ]
  },
  {
   "cell_type": "code",
   "execution_count": 2,
   "id": "358306c1-36d5-486a-98d5-45c67230f8ec",
   "metadata": {},
   "outputs": [
    {
     "ename": "SyntaxError",
     "evalue": "invalid syntax (3628437132.py, line 2)",
     "output_type": "error",
     "traceback": [
      "\u001b[1;36m  Cell \u001b[1;32mIn[2], line 2\u001b[1;36m\u001b[0m\n\u001b[1;33m    inventory{}\u001b[0m\n\u001b[1;37m             ^\u001b[0m\n\u001b[1;31mSyntaxError\u001b[0m\u001b[1;31m:\u001b[0m invalid syntax\n"
     ]
    }
   ],
   "source": [
    "def initialize_inventory(products):\n",
    "    inventory{}\n",
    "    for product in products:\n",
    "        while True:\n",
    "            quantity:int(input(f\"enter the qty for {product}\"))\n",
    "                if quantity <= 0:\n",
    "                inventory[products]=quantity\n",
    "\n",
    "            break\n",
    "\n",
    "    return inventory\n",
    "            \n",
    "    "
   ]
  },
  {
   "cell_type": "code",
   "execution_count": 6,
   "id": "9615d02d-fb42-483a-b5ea-c6ce300ae505",
   "metadata": {},
   "outputs": [],
   "source": [
    "numbers = [2**i for i in range (1,6)]"
   ]
  },
  {
   "cell_type": "code",
   "execution_count": 8,
   "id": "c7c76888-6c74-43de-8322-6b3e54b9e6ba",
   "metadata": {},
   "outputs": [
    {
     "name": "stdout",
     "output_type": "stream",
     "text": [
      "[2, 4, 8, 16, 32]\n"
     ]
    }
   ],
   "source": [
    "print(numbers)"
   ]
  },
  {
   "cell_type": "code",
   "execution_count": 9,
   "id": "66a6a6cc-1c3f-43dc-b47b-577a5799f47e",
   "metadata": {},
   "outputs": [
    {
     "data": {
      "text/plain": [
       "{'t-shirt': 5, 'mug': 8, 'hat': 5, 'book': 2, 'keychain': 2}"
      ]
     },
     "execution_count": 9,
     "metadata": {},
     "output_type": "execute_result"
    }
   ],
   "source": [
    "{'t-shirt': 5, 'mug': 8, 'hat': 5, 'book': 2, 'keychain': 2}"
   ]
  },
  {
   "cell_type": "code",
   "execution_count": null,
   "id": "223055e3-b5c0-4946-b40e-5dc6979aef48",
   "metadata": {},
   "outputs": [],
   "source": []
  }
 ],
 "metadata": {
  "kernelspec": {
   "display_name": "Python 3 (ipykernel)",
   "language": "python",
   "name": "python3"
  },
  "language_info": {
   "codemirror_mode": {
    "name": "ipython",
    "version": 3
   },
   "file_extension": ".py",
   "mimetype": "text/x-python",
   "name": "python",
   "nbconvert_exporter": "python",
   "pygments_lexer": "ipython3",
   "version": "3.11.7"
  }
 },
 "nbformat": 4,
 "nbformat_minor": 5
}
